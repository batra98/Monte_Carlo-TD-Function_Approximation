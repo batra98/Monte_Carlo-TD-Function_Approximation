{
 "cells": [
  {
   "cell_type": "markdown",
   "metadata": {},
   "source": [
    "## DQN"
   ]
  },
  {
   "cell_type": "markdown",
   "metadata": {},
   "source": [
    "### Environment\n",
    "- The environment consists of an agent which needs to use a ball to break bricks and score points.\n",
    "- We receive the current state of the environment in the form of an image of the current state of game.\n",
    "- Using this we need to estimate the best next action possible and ence use the MSE loss to train our model.\n",
    "- We can consider the neural net as a black box which takes the set of states as its input and gives the corresponding $Q$ values as output. We can then choose the action = $argmax_{action} Q(state)$.\n"
   ]
  },
  {
   "cell_type": "markdown",
   "metadata": {},
   "source": [
    "### DQN Algorithm\n",
    "- Main idea in DQN is we try to estimate $Q(s,a)$ values as in other TD Algorithms but instead of filling a $Q(s,a)$ matrix, we train a neural network.\n",
    "- We try to minimize the loss in each episode/epoch.Loss is given by:\n",
    "\\begin{equation}\n",
    "    J = ( reward + \\gamma \\max_{a^{'}}\\hat{Q} (s,a^{'}) - \\hat{Q})^2\n",
    "\\end{equation}\n",
    "- The algorithm tens to forget the previous experiences as it overwrites them with new experiences, so in order to overcome this we come up with the idea of replay experience.\n",
    "- Basically, we store some states (video frames) into buffer and sample a mini_batch of samples to train the deep network. This forms a input dataset stable enough for training.Samples are iid as they are randomly smapled from buffer.\n",
    "\n",
    "#### Target Network\n",
    "- we create 2 deep networks. We use the first one to fix the target and update the 2nd one.This is done so that we have a stable target to chase."
   ]
  },
  {
   "cell_type": "markdown",
   "metadata": {},
   "source": [
    "### As Atari Breakout was fairly complex to write and took a lot of time to trian, so I implemented the DQN on a much simpler problem of Cart-pole.\n",
    "- It is fairly simple problem, in which we have to balance a stick on a platform by moving left or right. "
   ]
  },
  {
   "cell_type": "code",
   "execution_count": 1,
   "metadata": {},
   "outputs": [
    {
     "name": "stderr",
     "output_type": "stream",
     "text": [
      "Using TensorFlow backend.\n"
     ]
    }
   ],
   "source": [
    "import gym\n",
    "from DQN_Agent import DQNAgent,learn\n",
    "import numpy as np\n",
    "import matplotlib.pyplot as plt"
   ]
  },
  {
   "cell_type": "code",
   "execution_count": 2,
   "metadata": {
    "scrolled": true
   },
   "outputs": [
    {
     "name": "stdout",
     "output_type": "stream",
     "text": [
      "episode: 0/10\n",
      "episode: 1/10\n",
      "episode: 2/10\n",
      "episode: 3/10\n",
      "episode: 4/10\n",
      "episode: 5/10\n",
      "episode: 6/10\n",
      "episode: 7/10\n",
      "episode: 8/10\n",
      "episode: 9/10\n"
     ]
    }
   ],
   "source": [
    "env = gym.make('CartPole-v1')\n",
    "state_size = env.observation_space.shape[0]\n",
    "action_size = env.action_space.n\n",
    "agent = DQNAgent(state_size, action_size)\n",
    "\n",
    "G = learn(env,agent,10)"
   ]
  },
  {
   "cell_type": "code",
   "execution_count": 3,
   "metadata": {},
   "outputs": [
    {
     "data": {
      "text/plain": [
       "[<matplotlib.lines.Line2D at 0x7f63d05d5a20>]"
      ]
     },
     "execution_count": 3,
     "metadata": {},
     "output_type": "execute_result"
    },
    {
     "data": {
      "image/png": "[encoded data removed]",
      "text/plain": [
       "<Figure size 432x288 with 1 Axes>"
      ]
     },
     "metadata": {
      "needs_background": "light"
     },
     "output_type": "display_data"
    }
   ],
   "source": [
    "plt.plot(G)"
   ]
  },
  {
   "cell_type": "code",
   "execution_count": 4,
   "metadata": {},
   "outputs": [],
   "source": [
    "def test(env,agent,episodes):\n",
    "    G = []\n",
    "\n",
    "\n",
    "    for e in range(episodes):\n",
    "        state = env.reset()\n",
    "        state = np.reshape(state, [1, agent.state_size])\n",
    "        for time in range(500):\n",
    "            # env.render()\n",
    "            action = agent.act(state)\n",
    "            next_state, reward, done, _ = env.step(action)\n",
    "            reward = reward if not done else -10\n",
    "            next_state = np.reshape(next_state, [1, agent.state_size])\n",
    "            \n",
    "            state = next_state\n",
    "            if done:\n",
    "                print(\"episode: {}/{}, score: {}\"\n",
    "                  .format(e, episodes, time))\n",
    "\n",
    "                G.append(time)\n",
    "                break\n",
    "            \n",
    "\n",
    "    return G"
   ]
  },
  {
   "cell_type": "code",
   "execution_count": 5,
   "metadata": {},
   "outputs": [
    {
     "name": "stdout",
     "output_type": "stream",
     "text": [
      "episode: 0/10, score: 414\n",
      "episode: 1/10, score: 438\n",
      "episode: 2/10, score: 471\n",
      "episode: 3/10, score: 371\n",
      "episode: 4/10, score: 387\n",
      "episode: 5/10, score: 414\n",
      "episode: 6/10, score: 437\n",
      "episode: 7/10, score: 459\n",
      "episode: 8/10, score: 486\n",
      "episode: 9/10, score: 366\n"
     ]
    }
   ],
   "source": [
    "agent = DQNAgent(state_size, action_size)\n",
    "agent.load(\"./cartpole-dqn.h5\")\n",
    "agent.epsilon = 0.0\n",
    "G = test(env,agent,10)"
   ]
  },
  {
   "cell_type": "code",
   "execution_count": 6,
   "metadata": {},
   "outputs": [
    {
     "data": {
      "text/plain": [
       "[<matplotlib.lines.Line2D at 0x7f63d0061518>]"
      ]
     },
     "execution_count": 6,
     "metadata": {},
     "output_type": "execute_result"
    },
    {
     "data": {
      "image/png": "[encoded data removed]",
      "text/plain": [
       "<Figure size 432x288 with 1 Axes>"
      ]
     },
     "metadata": {
      "needs_background": "light"
     },
     "output_type": "display_data"
    }
   ],
   "source": [
    "plt.plot(G)"
   ]
  },
  {
   "cell_type": "markdown",
   "metadata": {},
   "source": [
    "---\n",
    "References:\n",
    "- title: RL — DQN Deep Q-network \n",
    "  url: https://medium.com/@jonathan_hui/rl-dqn-deep-q-network-e207751f7ae4\n",
    "- title: Lec-3-DQN\n",
    "  url: https://drive.google.com/file/d/0BxXI_RttTZAhVUhpbDhiSUFFNjg/view\n",
    "- title: deep-q-atari\n",
    "  url: https://github.com/danielegrattarola/deep-q-atari\n",
    "- title: Reinforcement Learning (DQN) Tutorial\n",
    "  url: https://pytorch.org/tutorials/intermediate/reinforcement_q_learning.html"
   ]
  }
 ],
 "metadata": {
  "kernelspec": {
   "display_name": "Python 3",
   "language": "python",
   "name": "python3"
  },
  "language_info": {
   "codemirror_mode": {
    "name": "ipython",
    "version": 3
   },
   "file_extension": ".py",
   "mimetype": "text/x-python",
   "name": "python",
   "nbconvert_exporter": "python",
   "pygments_lexer": "ipython3",
   "version": "3.6.7"
  }
 },
 "nbformat": 4,
 "nbformat_minor": 2
}
