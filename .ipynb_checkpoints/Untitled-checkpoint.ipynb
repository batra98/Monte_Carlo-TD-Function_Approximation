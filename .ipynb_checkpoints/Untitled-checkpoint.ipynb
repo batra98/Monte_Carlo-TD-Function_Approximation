{
 "cells": [
  {
   "cell_type": "code",
   "execution_count": 1,
   "metadata": {},
   "outputs": [
    {
     "name": "stdout",
     "output_type": "stream",
     "text": [
      "Episode 50000/50000."
     ]
    }
   ],
   "source": [
    "import mc_on_policy as mc"
   ]
  },
  {
   "cell_type": "code",
   "execution_count": 2,
   "metadata": {},
   "outputs": [
    {
     "name": "stdout",
     "output_type": "stream",
     "text": [
      "4483\n"
     ]
    }
   ],
   "source": [
    "print(len(mc.Q.keys()))"
   ]
  },
  {
   "cell_type": "code",
   "execution_count": 3,
   "metadata": {},
   "outputs": [],
   "source": [
    "import base_agent\n",
    "import random\n",
    "\n",
    "from gym_tictactoe.env import TicTacToeEnv, agent_by_mark, check_game_status,\\\n",
    "    after_action_state, tomark, next_mark\n"
   ]
  },
  {
   "cell_type": "code",
   "execution_count": 6,
   "metadata": {},
   "outputs": [],
   "source": [
    "import numpy as np"
   ]
  },
  {
   "cell_type": "code",
   "execution_count": 11,
   "metadata": {},
   "outputs": [],
   "source": [
    "def play(max_episode = 10):\n",
    "    episode = 0\n",
    "    bs = base_agent.BaseAgent('O')\n",
    "    env = TicTacToeEnv()\n",
    "    \n",
    "    accuracy = 0\n",
    "    \n",
    "    while episode < max_episode:\n",
    "        start_mark = 'O'\n",
    "        env.set_start_mark('O')\n",
    "        state = env.reset()\n",
    "        done = False\n",
    "        \n",
    "        iterat = 0\n",
    "        while not done:\n",
    "            ava_actions = env.available_actions()\n",
    "#             print(state[0])\n",
    "            if iterat%2 == 1:\n",
    "                \n",
    "                action = bs.act(state,ava_actions)\n",
    "                state, reward, done, info = env.step(action)\n",
    "            else:\n",
    "#                 probability = mc.policy(state[0])\n",
    "#                 print(mc.Q[state[0]])\n",
    "#                 print(probability)\n",
    "#                 action = np.random.choice(np.arange(len(probability)),p = probability)\n",
    "                action = np.argmax(mc.Q[state[0]])\n",
    "#                 print(action)\n",
    "                state,reward,done,_ = env.step(int(action))\n",
    "            iterat += 1\n",
    "#             env.render()\n",
    "            accuracy += reward\n",
    "            start_mark = next_mark(start_mark)\n",
    "        episode += 1\n",
    "        \n",
    "    print(accuracy)\n",
    "    "
   ]
  },
  {
   "cell_type": "code",
   "execution_count": 12,
   "metadata": {},
   "outputs": [
    {
     "name": "stdout",
     "output_type": "stream",
     "text": [
      "9854\n"
     ]
    }
   ],
   "source": [
    "play(10000)"
   ]
  }
 ],
 "metadata": {
  "kernelspec": {
   "display_name": "Python 3",
   "language": "python",
   "name": "python3"
  },
  "language_info": {
   "codemirror_mode": {
    "name": "ipython",
    "version": 3
   },
   "file_extension": ".py",
   "mimetype": "text/x-python",
   "name": "python",
   "nbconvert_exporter": "python",
   "pygments_lexer": "ipython3",
   "version": "3.6.7"
  }
 },
 "nbformat": 4,
 "nbformat_minor": 2
}
